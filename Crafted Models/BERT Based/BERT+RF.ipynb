{
 "cells": [
  {
   "cell_type": "code",
   "execution_count": null,
   "metadata": {
    "execution": {
     "iopub.execute_input": "2025-04-13T06:58:59.264091Z",
     "iopub.status.busy": "2025-04-13T06:58:59.263762Z",
     "iopub.status.idle": "2025-04-13T06:59:21.199803Z",
     "shell.execute_reply": "2025-04-13T06:59:21.199131Z",
     "shell.execute_reply.started": "2025-04-13T06:58:59.264065Z"
    },
    "trusted": true
   },
   "outputs": [],
   "source": [
    "import pandas as pd\n",
    "import pandas as pd\n",
    "from sklearn.linear_model import LogisticRegression\n",
    "from sklearn.metrics import accuracy_score, classification_report\n",
    "from transformers import BertTokenizer, BertModel\n",
    "import torch\n",
    "from tqdm import tqdm\n",
    "import os\n",
    "import joblib\n",
    "from sklearn.ensemble import RandomForestClassifier\n",
    "from sklearn.metrics import accuracy_score, classification_report"
   ]
  },
  {
   "cell_type": "code",
   "execution_count": 2,
   "metadata": {
    "execution": {
     "iopub.execute_input": "2025-04-13T06:59:21.201388Z",
     "iopub.status.busy": "2025-04-13T06:59:21.200777Z",
     "iopub.status.idle": "2025-04-13T06:59:21.327790Z",
     "shell.execute_reply": "2025-04-13T06:59:21.326963Z",
     "shell.execute_reply.started": "2025-04-13T06:59:21.201349Z"
    },
    "trusted": true
   },
   "outputs": [
    {
     "data": {
      "text/html": [
       "<div>\n",
       "<style scoped>\n",
       "    .dataframe tbody tr th:only-of-type {\n",
       "        vertical-align: middle;\n",
       "    }\n",
       "\n",
       "    .dataframe tbody tr th {\n",
       "        vertical-align: top;\n",
       "    }\n",
       "\n",
       "    .dataframe thead th {\n",
       "        text-align: right;\n",
       "    }\n",
       "</style>\n",
       "<table border=\"1\" class=\"dataframe\">\n",
       "  <thead>\n",
       "    <tr style=\"text-align: right;\">\n",
       "      <th></th>\n",
       "      <th>messages</th>\n",
       "      <th>sender_labels</th>\n",
       "      <th>receiver_labels</th>\n",
       "      <th>speakers</th>\n",
       "      <th>receivers</th>\n",
       "      <th>absolute_message_index</th>\n",
       "      <th>relative_message_index</th>\n",
       "      <th>seasons</th>\n",
       "      <th>years</th>\n",
       "      <th>game_score</th>\n",
       "      <th>game_score_delta</th>\n",
       "      <th>players</th>\n",
       "      <th>game_id</th>\n",
       "      <th>politeness</th>\n",
       "      <th>negative_sentiment</th>\n",
       "      <th>neutral_sentiment</th>\n",
       "      <th>positive_sentiment</th>\n",
       "      <th>vader_score</th>\n",
       "    </tr>\n",
       "  </thead>\n",
       "  <tbody>\n",
       "    <tr>\n",
       "      <th>0</th>\n",
       "      <td>Tsk tsk, I told you I was right</td>\n",
       "      <td>False</td>\n",
       "      <td>NOANNOTATION</td>\n",
       "      <td>france</td>\n",
       "      <td>germany</td>\n",
       "      <td>492</td>\n",
       "      <td>117</td>\n",
       "      <td>Winter</td>\n",
       "      <td>1909</td>\n",
       "      <td>7</td>\n",
       "      <td>4</td>\n",
       "      <td>germany,france</td>\n",
       "      <td>6</td>\n",
       "      <td>3.185824</td>\n",
       "      <td>0.0</td>\n",
       "      <td>1.0</td>\n",
       "      <td>0.0</td>\n",
       "      <td>0.0000</td>\n",
       "    </tr>\n",
       "    <tr>\n",
       "      <th>1</th>\n",
       "      <td>Yeah, something tells me that player may be a ...</td>\n",
       "      <td>True</td>\n",
       "      <td>True</td>\n",
       "      <td>england</td>\n",
       "      <td>france</td>\n",
       "      <td>63</td>\n",
       "      <td>8</td>\n",
       "      <td>Spring</td>\n",
       "      <td>1901</td>\n",
       "      <td>3</td>\n",
       "      <td>0</td>\n",
       "      <td>england,france</td>\n",
       "      <td>1</td>\n",
       "      <td>3.535946</td>\n",
       "      <td>0.0</td>\n",
       "      <td>0.8</td>\n",
       "      <td>0.2</td>\n",
       "      <td>0.9260</td>\n",
       "    </tr>\n",
       "    <tr>\n",
       "      <th>2</th>\n",
       "      <td>Regardless of which way it falls in the end.</td>\n",
       "      <td>True</td>\n",
       "      <td>True</td>\n",
       "      <td>england</td>\n",
       "      <td>germany</td>\n",
       "      <td>1477</td>\n",
       "      <td>279</td>\n",
       "      <td>Spring</td>\n",
       "      <td>1906</td>\n",
       "      <td>5</td>\n",
       "      <td>0</td>\n",
       "      <td>germany,england</td>\n",
       "      <td>1</td>\n",
       "      <td>3.207375</td>\n",
       "      <td>0.0</td>\n",
       "      <td>1.0</td>\n",
       "      <td>0.0</td>\n",
       "      <td>0.0000</td>\n",
       "    </tr>\n",
       "    <tr>\n",
       "      <th>3</th>\n",
       "      <td>Austria is going to hedgehog though so I doubt...</td>\n",
       "      <td>False</td>\n",
       "      <td>True</td>\n",
       "      <td>italy</td>\n",
       "      <td>russia</td>\n",
       "      <td>133</td>\n",
       "      <td>9</td>\n",
       "      <td>Spring</td>\n",
       "      <td>1901</td>\n",
       "      <td>3</td>\n",
       "      <td>-1</td>\n",
       "      <td>italy,russia</td>\n",
       "      <td>7</td>\n",
       "      <td>3.171482</td>\n",
       "      <td>0.0</td>\n",
       "      <td>1.0</td>\n",
       "      <td>0.0</td>\n",
       "      <td>-0.5009</td>\n",
       "    </tr>\n",
       "    <tr>\n",
       "      <th>4</th>\n",
       "      <td>I talked to Austria</td>\n",
       "      <td>True</td>\n",
       "      <td>True</td>\n",
       "      <td>germany</td>\n",
       "      <td>england</td>\n",
       "      <td>1363</td>\n",
       "      <td>94</td>\n",
       "      <td>Fall</td>\n",
       "      <td>1902</td>\n",
       "      <td>5</td>\n",
       "      <td>0</td>\n",
       "      <td>germany,england</td>\n",
       "      <td>2</td>\n",
       "      <td>3.239397</td>\n",
       "      <td>0.0</td>\n",
       "      <td>1.0</td>\n",
       "      <td>0.0</td>\n",
       "      <td>0.0000</td>\n",
       "    </tr>\n",
       "  </tbody>\n",
       "</table>\n",
       "</div>"
      ],
      "text/plain": [
       "                                            messages  sender_labels  \\\n",
       "0                    Tsk tsk, I told you I was right          False   \n",
       "1  Yeah, something tells me that player may be a ...           True   \n",
       "2       Regardless of which way it falls in the end.           True   \n",
       "3  Austria is going to hedgehog though so I doubt...          False   \n",
       "4                                I talked to Austria           True   \n",
       "\n",
       "  receiver_labels speakers receivers  absolute_message_index  \\\n",
       "0    NOANNOTATION   france   germany                     492   \n",
       "1            True  england    france                      63   \n",
       "2            True  england   germany                    1477   \n",
       "3            True    italy    russia                     133   \n",
       "4            True  germany   england                    1363   \n",
       "\n",
       "   relative_message_index seasons  years  game_score  game_score_delta  \\\n",
       "0                     117  Winter   1909           7                 4   \n",
       "1                       8  Spring   1901           3                 0   \n",
       "2                     279  Spring   1906           5                 0   \n",
       "3                       9  Spring   1901           3                -1   \n",
       "4                      94    Fall   1902           5                 0   \n",
       "\n",
       "           players  game_id  politeness  negative_sentiment  \\\n",
       "0   germany,france        6    3.185824                 0.0   \n",
       "1   england,france        1    3.535946                 0.0   \n",
       "2  germany,england        1    3.207375                 0.0   \n",
       "3     italy,russia        7    3.171482                 0.0   \n",
       "4  germany,england        2    3.239397                 0.0   \n",
       "\n",
       "   neutral_sentiment  positive_sentiment  vader_score  \n",
       "0                1.0                 0.0       0.0000  \n",
       "1                0.8                 0.2       0.9260  \n",
       "2                1.0                 0.0       0.0000  \n",
       "3                1.0                 0.0      -0.5009  \n",
       "4                1.0                 0.0       0.0000  "
      ]
     },
     "execution_count": 2,
     "metadata": {},
     "output_type": "execute_result"
    }
   ],
   "source": [
    "df = pd.read_csv('/kaggle/input/diplomacy/train_df.csv')\n",
    "\n",
    "df.head()"
   ]
  },
  {
   "cell_type": "code",
   "execution_count": 3,
   "metadata": {
    "execution": {
     "iopub.execute_input": "2025-04-13T06:59:21.329912Z",
     "iopub.status.busy": "2025-04-13T06:59:21.329646Z",
     "iopub.status.idle": "2025-04-13T06:59:21.405297Z",
     "shell.execute_reply": "2025-04-13T06:59:21.404370Z",
     "shell.execute_reply.started": "2025-04-13T06:59:21.329890Z"
    },
    "trusted": true
   },
   "outputs": [
    {
     "name": "stdout",
     "output_type": "stream",
     "text": [
      "Using device: cuda\n"
     ]
    }
   ],
   "source": [
    "device = torch.device(\"cuda\" if torch.cuda.is_available() else \"cpu\")\n",
    "print(f\"Using device: {device}\")\n"
   ]
  },
  {
   "cell_type": "code",
   "execution_count": 4,
   "metadata": {
    "execution": {
     "iopub.execute_input": "2025-04-13T06:59:21.407106Z",
     "iopub.status.busy": "2025-04-13T06:59:21.406754Z",
     "iopub.status.idle": "2025-04-13T06:59:21.530307Z",
     "shell.execute_reply": "2025-04-13T06:59:21.529600Z",
     "shell.execute_reply.started": "2025-04-13T06:59:21.407070Z"
    },
    "trusted": true
   },
   "outputs": [],
   "source": [
    "train_df = pd.read_csv(\"/kaggle/input/diplomacy/train_df.csv\")\n",
    "val_df = pd.read_csv(\"/kaggle/input/diplomacy/val_df.csv\")\n",
    "test_df = pd.read_csv(\"/kaggle/input/diplomacy/test_df.csv\")\n"
   ]
  },
  {
   "cell_type": "code",
   "execution_count": 5,
   "metadata": {
    "execution": {
     "iopub.execute_input": "2025-04-13T06:59:21.531286Z",
     "iopub.status.busy": "2025-04-13T06:59:21.531047Z",
     "iopub.status.idle": "2025-04-13T06:59:21.537354Z",
     "shell.execute_reply": "2025-04-13T06:59:21.536572Z",
     "shell.execute_reply.started": "2025-04-13T06:59:21.531266Z"
    },
    "trusted": true
   },
   "outputs": [],
   "source": [
    "\n",
    "x_train = train_df[\"messages\"].tolist()\n",
    "y_train = train_df[\"sender_labels\"].astype(int).tolist()\n",
    "\n",
    "x_val = val_df[\"messages\"].tolist()\n",
    "y_val = val_df[\"sender_labels\"].astype(int).tolist()\n",
    "\n",
    "x_test = test_df[\"messages\"].tolist()\n",
    "y_test = test_df[\"sender_labels\"].astype(int).tolist()\n"
   ]
  },
  {
   "cell_type": "code",
   "execution_count": 6,
   "metadata": {
    "execution": {
     "iopub.execute_input": "2025-04-13T06:59:21.538584Z",
     "iopub.status.busy": "2025-04-13T06:59:21.538258Z",
     "iopub.status.idle": "2025-04-13T06:59:25.336538Z",
     "shell.execute_reply": "2025-04-13T06:59:25.335704Z",
     "shell.execute_reply.started": "2025-04-13T06:59:21.538550Z"
    },
    "trusted": true
   },
   "outputs": [
    {
     "data": {
      "application/vnd.jupyter.widget-view+json": {
       "model_id": "87902b0773e449bf98f57e8ee762577b",
       "version_major": 2,
       "version_minor": 0
      },
      "text/plain": [
       "tokenizer_config.json:   0%|          | 0.00/48.0 [00:00<?, ?B/s]"
      ]
     },
     "metadata": {},
     "output_type": "display_data"
    },
    {
     "data": {
      "application/vnd.jupyter.widget-view+json": {
       "model_id": "69d965bddda2457f8dc9be61bae99bf9",
       "version_major": 2,
       "version_minor": 0
      },
      "text/plain": [
       "vocab.txt:   0%|          | 0.00/232k [00:00<?, ?B/s]"
      ]
     },
     "metadata": {},
     "output_type": "display_data"
    },
    {
     "data": {
      "application/vnd.jupyter.widget-view+json": {
       "model_id": "b6366bf4616743b5adb150e0d7e948a3",
       "version_major": 2,
       "version_minor": 0
      },
      "text/plain": [
       "tokenizer.json:   0%|          | 0.00/466k [00:00<?, ?B/s]"
      ]
     },
     "metadata": {},
     "output_type": "display_data"
    },
    {
     "data": {
      "application/vnd.jupyter.widget-view+json": {
       "model_id": "df85f642f87148918738310b19a7c601",
       "version_major": 2,
       "version_minor": 0
      },
      "text/plain": [
       "config.json:   0%|          | 0.00/570 [00:00<?, ?B/s]"
      ]
     },
     "metadata": {},
     "output_type": "display_data"
    },
    {
     "data": {
      "application/vnd.jupyter.widget-view+json": {
       "model_id": "46841a070d3b4b2b989c05f438fdd95c",
       "version_major": 2,
       "version_minor": 0
      },
      "text/plain": [
       "model.safetensors:   0%|          | 0.00/440M [00:00<?, ?B/s]"
      ]
     },
     "metadata": {},
     "output_type": "display_data"
    },
    {
     "data": {
      "text/plain": [
       "BertModel(\n",
       "  (embeddings): BertEmbeddings(\n",
       "    (word_embeddings): Embedding(30522, 768, padding_idx=0)\n",
       "    (position_embeddings): Embedding(512, 768)\n",
       "    (token_type_embeddings): Embedding(2, 768)\n",
       "    (LayerNorm): LayerNorm((768,), eps=1e-12, elementwise_affine=True)\n",
       "    (dropout): Dropout(p=0.1, inplace=False)\n",
       "  )\n",
       "  (encoder): BertEncoder(\n",
       "    (layer): ModuleList(\n",
       "      (0-11): 12 x BertLayer(\n",
       "        (attention): BertAttention(\n",
       "          (self): BertSdpaSelfAttention(\n",
       "            (query): Linear(in_features=768, out_features=768, bias=True)\n",
       "            (key): Linear(in_features=768, out_features=768, bias=True)\n",
       "            (value): Linear(in_features=768, out_features=768, bias=True)\n",
       "            (dropout): Dropout(p=0.1, inplace=False)\n",
       "          )\n",
       "          (output): BertSelfOutput(\n",
       "            (dense): Linear(in_features=768, out_features=768, bias=True)\n",
       "            (LayerNorm): LayerNorm((768,), eps=1e-12, elementwise_affine=True)\n",
       "            (dropout): Dropout(p=0.1, inplace=False)\n",
       "          )\n",
       "        )\n",
       "        (intermediate): BertIntermediate(\n",
       "          (dense): Linear(in_features=768, out_features=3072, bias=True)\n",
       "          (intermediate_act_fn): GELUActivation()\n",
       "        )\n",
       "        (output): BertOutput(\n",
       "          (dense): Linear(in_features=3072, out_features=768, bias=True)\n",
       "          (LayerNorm): LayerNorm((768,), eps=1e-12, elementwise_affine=True)\n",
       "          (dropout): Dropout(p=0.1, inplace=False)\n",
       "        )\n",
       "      )\n",
       "    )\n",
       "  )\n",
       "  (pooler): BertPooler(\n",
       "    (dense): Linear(in_features=768, out_features=768, bias=True)\n",
       "    (activation): Tanh()\n",
       "  )\n",
       ")"
      ]
     },
     "execution_count": 6,
     "metadata": {},
     "output_type": "execute_result"
    }
   ],
   "source": [
    "tokenizer = BertTokenizer.from_pretrained('bert-base-uncased')\n",
    "bert_model = BertModel.from_pretrained('bert-base-uncased')\n",
    "bert_model.to(device)\n",
    "bert_model.eval()"
   ]
  },
  {
   "cell_type": "code",
   "execution_count": 7,
   "metadata": {
    "execution": {
     "iopub.execute_input": "2025-04-13T06:59:25.337763Z",
     "iopub.status.busy": "2025-04-13T06:59:25.337445Z",
     "iopub.status.idle": "2025-04-13T06:59:25.342640Z",
     "shell.execute_reply": "2025-04-13T06:59:25.341861Z",
     "shell.execute_reply.started": "2025-04-13T06:59:25.337731Z"
    },
    "trusted": true
   },
   "outputs": [],
   "source": [
    "def get_bert_embeddings(texts, tokenizer, model, max_len=128):\n",
    "    embeddings = []\n",
    "    for text in tqdm(texts):\n",
    "        tokens = tokenizer(text, padding='max_length', truncation=True, max_length=max_len, return_tensors='pt')\n",
    "        tokens = {k: v.to(device) for k, v in tokens.items()}\n",
    "        with torch.no_grad():\n",
    "            output = model(**tokens)\n",
    "        cls_embedding = output.last_hidden_state[:, 0, :]  # [CLS] token\n",
    "        embeddings.append(cls_embedding.squeeze().cpu().numpy())\n",
    "    return torch.tensor(embeddings).numpy()"
   ]
  },
  {
   "cell_type": "code",
   "execution_count": 8,
   "metadata": {
    "execution": {
     "iopub.execute_input": "2025-04-13T06:59:25.345313Z",
     "iopub.status.busy": "2025-04-13T06:59:25.345090Z",
     "iopub.status.idle": "2025-04-13T07:02:24.296800Z",
     "shell.execute_reply": "2025-04-13T07:02:24.295904Z",
     "shell.execute_reply.started": "2025-04-13T06:59:25.345294Z"
    },
    "trusted": true
   },
   "outputs": [
    {
     "name": "stderr",
     "output_type": "stream",
     "text": [
      "100%|██████████| 12102/12102 [02:02<00:00, 98.63it/s]\n",
      "<ipython-input-7-0fe0b6076746>:10: UserWarning: Creating a tensor from a list of numpy.ndarrays is extremely slow. Please consider converting the list to a single numpy.ndarray with numpy.array() before converting to a tensor. (Triggered internally at ../torch/csrc/utils/tensor_new.cpp:278.)\n",
      "  return torch.tensor(embeddings).numpy()\n",
      "100%|██████████| 1729/1729 [00:17<00:00, 96.09it/s]\n",
      "100%|██████████| 3458/3458 [00:36<00:00, 95.64it/s]\n"
     ]
    }
   ],
   "source": [
    "x_train_vec = get_bert_embeddings(x_train, tokenizer, bert_model)\n",
    "x_val_vec = get_bert_embeddings(x_val, tokenizer, bert_model)\n",
    "x_test_vec = get_bert_embeddings(x_test, tokenizer, bert_model)"
   ]
  },
  {
   "cell_type": "code",
   "execution_count": null,
   "metadata": {
    "execution": {
     "iopub.execute_input": "2025-04-13T07:05:19.102294Z",
     "iopub.status.busy": "2025-04-13T07:05:19.102040Z",
     "iopub.status.idle": "2025-04-13T07:06:48.108973Z",
     "shell.execute_reply": "2025-04-13T07:06:48.108238Z",
     "shell.execute_reply.started": "2025-04-13T07:05:19.102273Z"
    },
    "trusted": true
   },
   "outputs": [
    {
     "name": "stdout",
     "output_type": "stream",
     "text": [
      "RF Test Accuracy: 0.9540196645459803\n",
      "RF Report:\n",
      "               precision    recall  f1-score   support\n",
      "\n",
      "           0       0.80      0.02      0.05       162\n",
      "           1       0.95      1.00      0.98      3296\n",
      "\n",
      "    accuracy                           0.95      3458\n",
      "   macro avg       0.88      0.51      0.51      3458\n",
      "weighted avg       0.95      0.95      0.93      3458\n",
      "\n"
     ]
    }
   ],
   "source": [
    "\n",
    "\n",
    "rf = RandomForestClassifier(n_estimators=100, random_state=42)\n",
    "rf.fit(x_train_vec, y_train)\n",
    "\n",
    "# Save model\n",
    "joblib.dump(rf, \"saved_models/random_forest_bert.joblib\")\n",
    "\n",
    "# Evaluate\n",
    "print(\"RF Test Accuracy:\", accuracy_score(y_test, rf.predict(x_test_vec)))\n",
    "print(\"RF Report:\\n\", classification_report(y_test, rf.predict(x_test_vec)))\n"
   ]
  }
 ],
 "metadata": {
  "kaggle": {
   "accelerator": "nvidiaTeslaT4",
   "dataSources": [
    {
     "datasetId": 6933736,
     "sourceId": 11384243,
     "sourceType": "datasetVersion"
    }
   ],
   "dockerImageVersionId": 30919,
   "isGpuEnabled": true,
   "isInternetEnabled": true,
   "language": "python",
   "sourceType": "notebook"
  },
  "kernelspec": {
   "display_name": "Python 3",
   "language": "python",
   "name": "python3"
  },
  "language_info": {
   "codemirror_mode": {
    "name": "ipython",
    "version": 3
   },
   "file_extension": ".py",
   "mimetype": "text/x-python",
   "name": "python",
   "nbconvert_exporter": "python",
   "pygments_lexer": "ipython3",
   "version": "3.10.12"
  }
 },
 "nbformat": 4,
 "nbformat_minor": 4
}
